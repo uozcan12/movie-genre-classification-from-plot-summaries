{
 "cells": [
  {
   "cell_type": "code",
   "execution_count": 1,
   "metadata": {
    "_cell_guid": "b1076dfc-b9ad-4769-8c92-a6c4dae69d19",
    "_uuid": "8f2839f25d086af736a60e9eeb907d3b93b6e0e5"
   },
   "outputs": [
    {
     "data": {
      "text/plain": [
       "'1.0.51'"
      ]
     },
     "execution_count": 1,
     "metadata": {},
     "output_type": "execute_result"
    }
   ],
   "source": [
    "import fastai\n",
    "from fastai import *\n",
    "from fastai.text import *\n",
    "from fastai.core import *\n",
    "fastai.__version__"
   ]
  },
  {
   "cell_type": "code",
   "execution_count": 2,
   "metadata": {},
   "outputs": [
    {
     "name": "stdout",
     "output_type": "stream",
     "text": [
      "['train_data.txt', 'test_data.txt']\n"
     ]
    }
   ],
   "source": [
    "import numpy as np # linear algebra\n",
    "import pandas as pd # data processing, CSV file I/O (e.g. pd.read_csv)\n",
    "from sklearn import preprocessing\n",
    "from sklearn.model_selection import train_test_split\n",
    "from tqdm import tqdm_notebook\n",
    "\n",
    "import os\n",
    "print(os.listdir(\"../input\"))"
   ]
  },
  {
   "cell_type": "markdown",
   "metadata": {},
   "source": [
    "# Data"
   ]
  },
  {
   "cell_type": "code",
   "execution_count": 3,
   "metadata": {
    "_cell_guid": "79c7e3d0-c299-4dcb-8224-4455121ee9b0",
    "_uuid": "d629ff2d2480ee46fbb7e2d37f6b5fab8052498a"
   },
   "outputs": [
    {
     "name": "stderr",
     "output_type": "stream",
     "text": [
      "/opt/conda/lib/python3.6/site-packages/ipykernel_launcher.py:2: ParserWarning: Falling back to the 'python' engine because the 'c' engine does not support regex separators (separators > 1 char and different from '\\s+' are interpreted as regex); you can avoid this warning by specifying engine='python'.\n",
      "  \n"
     ]
    }
   ],
   "source": [
    "train_df = pd.read_csv('../input/train_data.txt',  sep=':::', header=None, \n",
    "                       names=('name', 'genre', 'text'), index_col=0)"
   ]
  },
  {
   "cell_type": "code",
   "execution_count": 4,
   "metadata": {},
   "outputs": [
    {
     "data": {
      "text/html": [
       "<div>\n",
       "<style scoped>\n",
       "    .dataframe tbody tr th:only-of-type {\n",
       "        vertical-align: middle;\n",
       "    }\n",
       "\n",
       "    .dataframe tbody tr th {\n",
       "        vertical-align: top;\n",
       "    }\n",
       "\n",
       "    .dataframe thead th {\n",
       "        text-align: right;\n",
       "    }\n",
       "</style>\n",
       "<table border=\"1\" class=\"dataframe\">\n",
       "  <thead>\n",
       "    <tr style=\"text-align: right;\">\n",
       "      <th></th>\n",
       "      <th>name</th>\n",
       "      <th>genre</th>\n",
       "      <th>text</th>\n",
       "    </tr>\n",
       "  </thead>\n",
       "  <tbody>\n",
       "    <tr>\n",
       "      <th>1</th>\n",
       "      <td>Oscar et la dame rose (2009)</td>\n",
       "      <td>drama</td>\n",
       "      <td>Listening in to a conversation between his do...</td>\n",
       "    </tr>\n",
       "    <tr>\n",
       "      <th>2</th>\n",
       "      <td>Cupid (1997)</td>\n",
       "      <td>thriller</td>\n",
       "      <td>A brother and sister with a past incestuous r...</td>\n",
       "    </tr>\n",
       "    <tr>\n",
       "      <th>3</th>\n",
       "      <td>Young, Wild and Wonderful (1980)</td>\n",
       "      <td>adult</td>\n",
       "      <td>As the bus empties the students for their fie...</td>\n",
       "    </tr>\n",
       "    <tr>\n",
       "      <th>4</th>\n",
       "      <td>The Secret Sin (1915)</td>\n",
       "      <td>drama</td>\n",
       "      <td>To help their unemployed father make ends mee...</td>\n",
       "    </tr>\n",
       "    <tr>\n",
       "      <th>5</th>\n",
       "      <td>The Unrecovered (2007)</td>\n",
       "      <td>drama</td>\n",
       "      <td>The film's title refers not only to the un-re...</td>\n",
       "    </tr>\n",
       "  </tbody>\n",
       "</table>\n",
       "</div>"
      ],
      "text/plain": [
       "                                 name                        ...                                                                       text\n",
       "1       Oscar et la dame rose (2009)                         ...                           Listening in to a conversation between his do...\n",
       "2                       Cupid (1997)                         ...                           A brother and sister with a past incestuous r...\n",
       "3   Young, Wild and Wonderful (1980)                         ...                           As the bus empties the students for their fie...\n",
       "4              The Secret Sin (1915)                         ...                           To help their unemployed father make ends mee...\n",
       "5             The Unrecovered (2007)                         ...                           The film's title refers not only to the un-re...\n",
       "\n",
       "[5 rows x 3 columns]"
      ]
     },
     "execution_count": 4,
     "metadata": {},
     "output_type": "execute_result"
    }
   ],
   "source": [
    "train_df.head()"
   ]
  },
  {
   "cell_type": "code",
   "execution_count": 5,
   "metadata": {},
   "outputs": [
    {
     "name": "stdout",
     "output_type": "stream",
     "text": [
      "<class 'pandas.core.frame.DataFrame'>\n",
      "Int64Index: 54214 entries, 1 to 54214\n",
      "Data columns (total 3 columns):\n",
      "name     54214 non-null object\n",
      "genre    54214 non-null object\n",
      "text     54214 non-null object\n",
      "dtypes: object(3)\n",
      "memory usage: 1.7+ MB\n"
     ]
    }
   ],
   "source": [
    "train_df.info()"
   ]
  },
  {
   "cell_type": "code",
   "execution_count": 6,
   "metadata": {},
   "outputs": [
    {
     "data": {
      "text/plain": [
       " drama           13613\n",
       " documentary     13096\n",
       " comedy           7447\n",
       " short            5073\n",
       " horror           2204\n",
       " thriller         1591\n",
       " action           1315\n",
       " western          1032\n",
       " reality-tv        884\n",
       " family            784\n",
       " adventure         775\n",
       " music             731\n",
       " romance           672\n",
       " sci-fi            647\n",
       " adult             590\n",
       " crime             505\n",
       " animation         498\n",
       " sport             432\n",
       " talk-show         391\n",
       " fantasy           323\n",
       " mystery           319\n",
       " musical           277\n",
       " biography         265\n",
       " history           243\n",
       " game-show         194\n",
       " news              181\n",
       " war               132\n",
       "Name: genre, dtype: int64"
      ]
     },
     "execution_count": 6,
     "metadata": {},
     "output_type": "execute_result"
    }
   ],
   "source": [
    "train_df.genre.value_counts()"
   ]
  },
  {
   "cell_type": "code",
   "execution_count": 7,
   "metadata": {},
   "outputs": [
    {
     "name": "stderr",
     "output_type": "stream",
     "text": [
      "/opt/conda/lib/python3.6/site-packages/ipykernel_launcher.py:2: ParserWarning: Falling back to the 'python' engine because the 'c' engine does not support regex separators (separators > 1 char and different from '\\s+' are interpreted as regex); you can avoid this warning by specifying engine='python'.\n",
      "  \n"
     ]
    },
    {
     "data": {
      "text/html": [
       "<div>\n",
       "<style scoped>\n",
       "    .dataframe tbody tr th:only-of-type {\n",
       "        vertical-align: middle;\n",
       "    }\n",
       "\n",
       "    .dataframe tbody tr th {\n",
       "        vertical-align: top;\n",
       "    }\n",
       "\n",
       "    .dataframe thead th {\n",
       "        text-align: right;\n",
       "    }\n",
       "</style>\n",
       "<table border=\"1\" class=\"dataframe\">\n",
       "  <thead>\n",
       "    <tr style=\"text-align: right;\">\n",
       "      <th></th>\n",
       "      <th>name</th>\n",
       "      <th>text</th>\n",
       "    </tr>\n",
       "  </thead>\n",
       "  <tbody>\n",
       "    <tr>\n",
       "      <th>1</th>\n",
       "      <td>Edgar's Lunch (1998)</td>\n",
       "      <td>L.R. Brane loves his life - his car, his apar...</td>\n",
       "    </tr>\n",
       "    <tr>\n",
       "      <th>2</th>\n",
       "      <td>La guerra de papá (1977)</td>\n",
       "      <td>Spain, March 1964: Quico is a very naughty ch...</td>\n",
       "    </tr>\n",
       "    <tr>\n",
       "      <th>3</th>\n",
       "      <td>Off the Beaten Track (2010)</td>\n",
       "      <td>One year in the life of Albin and his family ...</td>\n",
       "    </tr>\n",
       "    <tr>\n",
       "      <th>4</th>\n",
       "      <td>Meu Amigo Hindu (2015)</td>\n",
       "      <td>His father has died, he hasn't spoken with hi...</td>\n",
       "    </tr>\n",
       "    <tr>\n",
       "      <th>5</th>\n",
       "      <td>Er nu zhai (1955)</td>\n",
       "      <td>Before he was known internationally as a mart...</td>\n",
       "    </tr>\n",
       "  </tbody>\n",
       "</table>\n",
       "</div>"
      ],
      "text/plain": [
       "                            name                                               text\n",
       "1          Edgar's Lunch (1998)    L.R. Brane loves his life - his car, his apar...\n",
       "2      La guerra de papá (1977)    Spain, March 1964: Quico is a very naughty ch...\n",
       "3   Off the Beaten Track (2010)    One year in the life of Albin and his family ...\n",
       "4        Meu Amigo Hindu (2015)    His father has died, he hasn't spoken with hi...\n",
       "5             Er nu zhai (1955)    Before he was known internationally as a mart..."
      ]
     },
     "execution_count": 7,
     "metadata": {},
     "output_type": "execute_result"
    }
   ],
   "source": [
    "test_df = pd.read_csv('../input/test_data.txt',  sep=':::', header=None, \n",
    "                      names=('name', 'text'), index_col=0)\n",
    "test_df.head()"
   ]
  },
  {
   "cell_type": "markdown",
   "metadata": {},
   "source": [
    "# Preprocessing"
   ]
  },
  {
   "cell_type": "markdown",
   "metadata": {},
   "source": [
    "### Lower"
   ]
  },
  {
   "cell_type": "code",
   "execution_count": 8,
   "metadata": {},
   "outputs": [],
   "source": [
    "train_df['text'] = train_df['text'].str.lower()\n",
    "test_df['text'] = test_df['text'].str.lower()"
   ]
  },
  {
   "cell_type": "markdown",
   "metadata": {},
   "source": [
    "### train_test_split"
   ]
  },
  {
   "cell_type": "code",
   "execution_count": 9,
   "metadata": {},
   "outputs": [
    {
     "data": {
      "text/plain": [
       "((51503, 2), (2711, 2))"
      ]
     },
     "execution_count": 9,
     "metadata": {},
     "output_type": "execute_result"
    }
   ],
   "source": [
    "# split data into training and validation set\n",
    "df_trn, df_val = train_test_split(train_df[['genre','text']], stratify = train_df['genre'], \n",
    "                                  test_size = 0.05, random_state = 42)\n",
    "df_trn.shape, df_val.shape"
   ]
  },
  {
   "cell_type": "code",
   "execution_count": 10,
   "metadata": {},
   "outputs": [
    {
     "data": {
      "text/html": [
       "<div>\n",
       "<style scoped>\n",
       "    .dataframe tbody tr th:only-of-type {\n",
       "        vertical-align: middle;\n",
       "    }\n",
       "\n",
       "    .dataframe tbody tr th {\n",
       "        vertical-align: top;\n",
       "    }\n",
       "\n",
       "    .dataframe thead th {\n",
       "        text-align: right;\n",
       "    }\n",
       "</style>\n",
       "<table border=\"1\" class=\"dataframe\">\n",
       "  <thead>\n",
       "    <tr style=\"text-align: right;\">\n",
       "      <th></th>\n",
       "      <th>genre</th>\n",
       "      <th>text</th>\n",
       "    </tr>\n",
       "  </thead>\n",
       "  <tbody>\n",
       "    <tr>\n",
       "      <th>7123</th>\n",
       "      <td>short</td>\n",
       "      <td>in the summer of 1996, darlie routier fell un...</td>\n",
       "    </tr>\n",
       "    <tr>\n",
       "      <th>19951</th>\n",
       "      <td>documentary</td>\n",
       "      <td>a documentary history of lesbianism in north ...</td>\n",
       "    </tr>\n",
       "    <tr>\n",
       "      <th>17090</th>\n",
       "      <td>reality-tv</td>\n",
       "      <td>parker schnabel and his friends pay tribute t...</td>\n",
       "    </tr>\n",
       "    <tr>\n",
       "      <th>11464</th>\n",
       "      <td>documentary</td>\n",
       "      <td>documentary film recounting the travels of ca...</td>\n",
       "    </tr>\n",
       "    <tr>\n",
       "      <th>11017</th>\n",
       "      <td>sci-fi</td>\n",
       "      <td>a glowing brain-like creature arrives on a be...</td>\n",
       "    </tr>\n",
       "  </tbody>\n",
       "</table>\n",
       "</div>"
      ],
      "text/plain": [
       "               genre                                               text\n",
       "7123          short    in the summer of 1996, darlie routier fell un...\n",
       "19951   documentary    a documentary history of lesbianism in north ...\n",
       "17090    reality-tv    parker schnabel and his friends pay tribute t...\n",
       "11464   documentary    documentary film recounting the travels of ca...\n",
       "11017        sci-fi    a glowing brain-like creature arrives on a be..."
      ]
     },
     "execution_count": 10,
     "metadata": {},
     "output_type": "execute_result"
    }
   ],
   "source": [
    "df_trn.head()"
   ]
  },
  {
   "cell_type": "markdown",
   "metadata": {},
   "source": [
    "# Encoder"
   ]
  },
  {
   "cell_type": "code",
   "execution_count": 11,
   "metadata": {},
   "outputs": [],
   "source": [
    "# Language model data\n",
    "data_lm = TextLMDataBunch.from_df('.', train_df=df_trn, valid_df=df_val)\n",
    "data_lm.save('tmp_lm.pkl')"
   ]
  },
  {
   "cell_type": "code",
   "execution_count": 12,
   "metadata": {},
   "outputs": [],
   "source": [
    "learn = language_model_learner(data_lm, AWD_LSTM, drop_mult=0.5)"
   ]
  },
  {
   "cell_type": "code",
   "execution_count": 13,
   "metadata": {},
   "outputs": [
    {
     "data": {
      "text/html": [],
      "text/plain": [
       "<IPython.core.display.HTML object>"
      ]
     },
     "metadata": {},
     "output_type": "display_data"
    },
    {
     "name": "stdout",
     "output_type": "stream",
     "text": [
      "LR Finder is complete, type {learner_name}.recorder.plot() to see the graph.\n"
     ]
    },
    {
     "data": {
      "image/png": "[encoded data removed]",
      "text/plain": [
       "<Figure size 432x288 with 1 Axes>"
      ]
     },
     "metadata": {},
     "output_type": "display_data"
    }
   ],
   "source": [
    "learn.lr_find()\n",
    "learn.recorder.plot()"
   ]
  },
  {
   "cell_type": "code",
   "execution_count": 14,
   "metadata": {},
   "outputs": [
    {
     "data": {
      "text/html": [
       "\n",
       "    <div>\n",
       "        <style>\n",
       "            /* Turns off some styling */\n",
       "            progress {\n",
       "                /* gets rid of default border in Firefox and Opera. */\n",
       "                border: none;\n",
       "                /* Needs to be in here for Safari polyfill so background images work as expected. */\n",
       "                background-size: auto;\n",
       "            }\n",
       "            .progress-bar-interrupted, .progress-bar-interrupted::-webkit-progress-bar {\n",
       "                background: #F44336;\n",
       "            }\n",
       "        </style>\n",
       "      <progress value='1' class='' max='3', style='width:300px; height:20px; vertical-align: middle;'></progress>\n",
       "      33.33% [1/3 05:28<10:57]\n",
       "    </div>\n",
       "    \n",
       "<table border=\"1\" class=\"dataframe\">\n",
       "  <thead>\n",
       "    <tr style=\"text-align: left;\">\n",
       "      <th>epoch</th>\n",
       "      <th>train_loss</th>\n",
       "      <th>valid_loss</th>\n",
       "      <th>accuracy</th>\n",
       "      <th>time</th>\n",
       "    </tr>\n",
       "  </thead>\n",
       "  <tbody>\n",
       "    <tr>\n",
       "      <td>0</td>\n",
       "      <td>4.806885</td>\n",
       "      <td>4.497121</td>\n",
       "      <td>0.269206</td>\n",
       "      <td>05:28</td>\n",
       "    </tr>\n",
       "  </tbody>\n",
       "</table><p>\n",
       "\n",
       "    <div>\n",
       "        <style>\n",
       "            /* Turns off some styling */\n",
       "            progress {\n",
       "                /* gets rid of default border in Firefox and Opera. */\n",
       "                border: none;\n",
       "                /* Needs to be in here for Safari polyfill so background images work as expected. */\n",
       "                background-size: auto;\n",
       "            }\n",
       "            .progress-bar-interrupted, .progress-bar-interrupted::-webkit-progress-bar {\n",
       "                background: #F44336;\n",
       "            }\n",
       "        </style>\n",
       "      <progress value='37' class='' max='73', style='width:300px; height:20px; vertical-align: middle;'></progress>\n",
       "      50.68% [37/73 00:02<00:02]\n",
       "    </div>\n",
       "    "
      ],
      "text/plain": [
       "<IPython.core.display.HTML object>"
      ]
     },
     "metadata": {},
     "output_type": "display_data"
    }
   ],
   "source": [
    "learn.unfreeze()\n",
    "learn.fit_one_cycle(3,)\n",
    "learn.freeze()"
   ]
  },
  {
   "cell_type": "code",
   "execution_count": 15,
   "metadata": {},
   "outputs": [],
   "source": [
    "learn.save_encoder('ft_enc')"
   ]
  },
  {
   "cell_type": "markdown",
   "metadata": {},
   "source": [
    "# Text Classification"
   ]
  },
  {
   "cell_type": "code",
   "execution_count": 16,
   "metadata": {},
   "outputs": [],
   "source": [
    "# Classifier model data\n",
    "data_clas = TextClasDataBunch.from_df(path = '.', train_df=df_trn, valid_df=df_val, test_df=test_df,\n",
    "                                      text_cols='text', label_cols='genre',\n",
    "                                      vocab=data_lm.vocab, bs=32, shuffle = False,)\n",
    "data_clas.save('tmp_DB.pkl')"
   ]
  },
  {
   "cell_type": "code",
   "execution_count": 17,
   "metadata": {
    "_kg_hide-output": true
   },
   "outputs": [
    {
     "data": {
      "text/plain": [
       "TextClasDataBunch;\n",
       "\n",
       "Train: LabelList (51503 items)\n",
       "x: TextList\n",
       "xxbos in the summer of 1996 , darlie xxunk fell under the shadow of suspicion in the murder of her young sons . the media circled her like sharks , and , eventually , she was sentenced to death - row . 20 years later , doubt still remains . did darlie do it ? in a unique approach to true - crime , facts merge with opinions , mirroring the true confusion surrounding the haunting case . through all the speculation and theorizing , one thought remains : this was truly , an all - american murder .,xxbos a documentary history of lesbianism in north american and europe , with historic references , archival material , film clips , interviews with many women - famous and not - famous witnesses and players - who clearly remember a difficult , painful , and often downright dangerous past .,xxbos parker schnabel and his friends pay tribute to the legends before them and attempt the klondike trail of 1897 . not only is it 600 miles of mountains , lakes and rivers , but leaving dangerously late in the season means the winter may derail their plans .,xxbos documentary film recounting the travels of captain xxunk davis and his wife , ruth xxunk davis , across the ivory coast . the xxunk filmed their exploits , seeking out in particular evidence of the beginnings and native practices of witchcraft and sorcery , and culminating in a visit to the village of xxunk , ostensibly a village of sorcerers .,xxbos a glowing brain - like creature arrives on a beach near a rocket test site via a teleportation beam . the alien communicates telepathically with the children of scientists . the kids start doing the alien 's bidding as the adults try to find out what 's happening to their unruly offspring .\n",
       "y: CategoryList\n",
       " short , documentary , reality-tv , documentary , sci-fi \n",
       "Path: .;\n",
       "\n",
       "Valid: LabelList (2711 items)\n",
       "x: TextList\n",
       "xxbos how often do we come to terms with ourselves ? how often do we find time to stand and stare for a while ? do we even breathe a sigh of relief ? how often have we asked ourselves if we really are happy ? is what you are doing what you always wanted to do ? do you notice the humming of birds anymore ? do you notice the cool breeze of wind kissing your cheeks as you walk by ? do you feel the selfless emotions anymore ? do you ever feel this that you are not being yourself but somebody you are ought to be ? do you live between the moments or are they the moments that xxunk you the way they want you to live ? are you happy with the countless compromised you make with your soul everyday ? do you realize how the time is slipping by and you and i are dancing to the the tunes of circumstances ? xxunk ra xxunk is all about this .,xxbos tom wolfe spent several years researching his new novel , back to blood , in miami . this documentary goes behind the iconic white suit to show what makes this master author and journalist tick . the man behind bonfire of the xxunk , the electric kool aid acid test and the right stuff shows that even in his 80s , he has n't lost his touch .,xxbos during his visit of xxunk to xxunk 's funeral , recep xxunk feels sorry about xxunk 's remaining family members due to his latest unfinished job contract which would cause hard financial situation for the family . therefore , recep decides to finish xxunk 's last job by replacing himself as a bus driver and to transport group of athletes . although recep and his accompanying friend xxunk were expecting this could be a short trip , they learn that it is not because they have to transport young national athletes to sports organization in a foreign country . this becomes the beginning for them to have irreversible adventure . when they are on the road , unfortunate things happen and crisis appears for the team . recep , who believes only in victory , takes control of the situation and develops his own methods in order to make the team successful while he face with all funny events . with his own unique comedy , recep xxunk continues his adventure in this fifth story .,xxbos the \" xxunk xxunk - forgotten times \" documentary shows the diversity and complexity of the past and present of basque migration and the return to xxunk , through the testimonies of 24 people who take us into landscapes of other times of memories or forgotten moments . children of war , exiles , shepherds , cane cutters , priests or jai alai players , whose life paths led them to many different countries , give us xxunk person accounts of their experiences abroad and the later return to xxunk .,xxbos a crime scene is filled with mysteries , but nothing holds more secrets than a dead body . and when it comes to solving these mysteries , there is no one better than \" murph . \" michael \" murph \" murphy is considered an ' artist of autopsy . ' he 's a dynamic , relentless former chief of police and detective - turned - coroner in clark county ( vegas ) , where he oversees both the medical and investigative teams . they handle more than 3,500 souls a year ( 2,000 of which are mysterious deaths ) and in vegas , that means they see cases that no one else in the rest of the country will see .\n",
       "y: CategoryList\n",
       " short , documentary , comedy , documentary , reality-tv \n",
       "Path: .;\n",
       "\n",
       "Test: LabelList (54200 items)\n",
       "x: TextList\n",
       "xxbos xxunk . xxunk loves his life - his car , his apartment , his job , but especially his girlfriend , vespa . one day while showering , vespa runs out of shampoo . xxunk . runs across the street to a convenience store to buy some more , a quick trip of no more than a few minutes . when he returns , vespa is gone and every trace of her existence has been wiped out . xxunk . 's life becomes a tortured existence as one strange event after another occurs to confirm in his mind that a conspiracy is working against his finding vespa .,xxbos spain , march 1964 : xxunk is a very naughty child of three belonging to a wealthy middle - class family . since cristina 's birth , he feels he has lost the privileged position of \" prince \" of the house for his eight months old sister . so , with his brother juan , who is eight years old and is quite disobedient , spend their time committing prank after prank , causing the resulting anger of his mother , the nanny and the old housemaid . the rest of the family members are two much older brothers , his resigned mother and a retrograde father of authoritarian ideas . but many years have passed , and the civil war that won the despot don pablo is simply for their children \" dad 's war \" .,xxbos one year in the life of albin and his family of shepherds in the north of transylvania . in direct cinema style , this documentary follows their day to day routines , and their struggle to adapt to a new world where traditions are gradually replaced by modern values . since joining the eu , romania has been facing , like several other eastern european countries , the pressure of modern values , introducing in farmer 's lives the cruel notion of competition , the temptation of migrating to the higher salaries abroad , and the marginalization of locally produced food against industrial products .,xxbos his father has died , he has n't spoken with his brother for about 10 years and has a serious cancer . diego is a talented film director with difficulty to deal with his sickness , which is making him lose his friends and family . his best friend and doctor ricardo gives him the news that he needs a bone marrow transplantation , otherwise he 'll die . he gets married to a beautiful woman , livia , just before going to seattle to get treatment . there , he undergoes numerous medical procedures . during treatment , he meets an hindu boy , with whom he plays and whom he tells amazing stories . odds are against him and when stakes are the highest , diego gets a visit from a very uncommon man .,xxbos before he was known internationally as a martial arts superstar , bruce lee had appeared in a handful of hong kong films as a child star in the 1940s / 50s . one of these early films was the more the xxunk ( 1955 ) , a.k.a . we owe it to our children from the union film enterprise , a family melodrama written and directed by renowned filmmaker chin chien ( my intimate partners ) . featuring the 14-year - old bruce lee and future cantonese opera star yuen siu fai , the b&w film revolves around accountant ming ( played by cheung wood yau ) and his wife ( xxunk lo lin ) who suffers a miscarriage in an car accident . the couple decides to adopt a baby girl , not knowing that she 's the daughter given up by ming 's poor co - worker who struggles to feed a bunch of kids . bruce lee plays the slacker son of the landlord ( ko lo xxunk ) .\n",
       "y: EmptyLabelList\n",
       ",,,,\n",
       "Path: ."
      ]
     },
     "execution_count": 17,
     "metadata": {},
     "output_type": "execute_result"
    }
   ],
   "source": [
    "data_clas"
   ]
  },
  {
   "cell_type": "code",
   "execution_count": 18,
   "metadata": {},
   "outputs": [],
   "source": [
    "learn = text_classifier_learner(data_clas, AWD_LSTM, drop_mult=0.5)\n",
    "learn.load_encoder('ft_enc')"
   ]
  },
  {
   "cell_type": "markdown",
   "metadata": {},
   "source": [
    "### step-1"
   ]
  },
  {
   "cell_type": "code",
   "execution_count": 19,
   "metadata": {},
   "outputs": [
    {
     "data": {
      "text/html": [],
      "text/plain": [
       "<IPython.core.display.HTML object>"
      ]
     },
     "metadata": {},
     "output_type": "display_data"
    },
    {
     "name": "stdout",
     "output_type": "stream",
     "text": [
      "LR Finder is complete, type {learner_name}.recorder.plot() to see the graph.\n"
     ]
    },
    {
     "data": {
      "image/png": "[encoded data removed]",
      "text/plain": [
       "<Figure size 432x288 with 1 Axes>"
      ]
     },
     "metadata": {},
     "output_type": "display_data"
    }
   ],
   "source": [
    "learn.lr_find()\n",
    "learn.recorder.plot()"
   ]
  },
  {
   "cell_type": "code",
   "execution_count": 20,
   "metadata": {},
   "outputs": [
    {
     "data": {
      "text/html": [
       "\n",
       "    <div>\n",
       "        <style>\n",
       "            /* Turns off some styling */\n",
       "            progress {\n",
       "                /* gets rid of default border in Firefox and Opera. */\n",
       "                border: none;\n",
       "                /* Needs to be in here for Safari polyfill so background images work as expected. */\n",
       "                background-size: auto;\n",
       "            }\n",
       "            .progress-bar-interrupted, .progress-bar-interrupted::-webkit-progress-bar {\n",
       "                background: #F44336;\n",
       "            }\n",
       "        </style>\n",
       "      <progress value='4' class='' max='10', style='width:300px; height:20px; vertical-align: middle;'></progress>\n",
       "      40.00% [4/10 09:30<14:15]\n",
       "    </div>\n",
       "    \n",
       "<table border=\"1\" class=\"dataframe\">\n",
       "  <thead>\n",
       "    <tr style=\"text-align: left;\">\n",
       "      <th>epoch</th>\n",
       "      <th>train_loss</th>\n",
       "      <th>valid_loss</th>\n",
       "      <th>accuracy</th>\n",
       "      <th>time</th>\n",
       "    </tr>\n",
       "  </thead>\n",
       "  <tbody>\n",
       "    <tr>\n",
       "      <td>0</td>\n",
       "      <td>1.536231</td>\n",
       "      <td>1.397415</td>\n",
       "      <td>0.564736</td>\n",
       "      <td>02:25</td>\n",
       "    </tr>\n",
       "    <tr>\n",
       "      <td>1</td>\n",
       "      <td>1.554794</td>\n",
       "      <td>1.367370</td>\n",
       "      <td>0.574696</td>\n",
       "      <td>02:20</td>\n",
       "    </tr>\n",
       "    <tr>\n",
       "      <td>2</td>\n",
       "      <td>1.485600</td>\n",
       "      <td>1.368569</td>\n",
       "      <td>0.562523</td>\n",
       "      <td>02:20</td>\n",
       "    </tr>\n",
       "    <tr>\n",
       "      <td>3</td>\n",
       "      <td>1.538699</td>\n",
       "      <td>1.346528</td>\n",
       "      <td>0.567687</td>\n",
       "      <td>02:23</td>\n",
       "    </tr>\n",
       "  </tbody>\n",
       "</table><p>\n",
       "\n",
       "    <div>\n",
       "        <style>\n",
       "            /* Turns off some styling */\n",
       "            progress {\n",
       "                /* gets rid of default border in Firefox and Opera. */\n",
       "                border: none;\n",
       "                /* Needs to be in here for Safari polyfill so background images work as expected. */\n",
       "                background-size: auto;\n",
       "            }\n",
       "            .progress-bar-interrupted, .progress-bar-interrupted::-webkit-progress-bar {\n",
       "                background: #F44336;\n",
       "            }\n",
       "        </style>\n",
       "      <progress value='786' class='' max='1609', style='width:300px; height:20px; vertical-align: middle;'></progress>\n",
       "      48.85% [786/1609 01:02<01:05 1.4276]\n",
       "    </div>\n",
       "    "
      ],
      "text/plain": [
       "<IPython.core.display.HTML object>"
      ]
     },
     "metadata": {},
     "output_type": "display_data"
    }
   ],
   "source": [
    "learn.fit_one_cycle(10, 1e-2)\n",
    "learn.save('step-1')"
   ]
  },
  {
   "cell_type": "code",
   "execution_count": 21,
   "metadata": {},
   "outputs": [
    {
     "data": {
      "image/png": "[encoded data removed]",
      "text/plain": [
       "<Figure size 432x288 with 1 Axes>"
      ]
     },
     "metadata": {},
     "output_type": "display_data"
    },
    {
     "data": {
      "image/png": "[encoded data removed]",
      "text/plain": [
       "<Figure size 432x288 with 1 Axes>"
      ]
     },
     "metadata": {},
     "output_type": "display_data"
    },
    {
     "data": {
      "image/png": "[encoded data removed]",
      "text/plain": [
       "<Figure size 432x288 with 1 Axes>"
      ]
     },
     "metadata": {},
     "output_type": "display_data"
    }
   ],
   "source": [
    "learn.recorder.plot()\n",
    "learn.recorder.plot_losses()\n",
    "learn.recorder.plot_metrics()"
   ]
  },
  {
   "cell_type": "markdown",
   "metadata": {},
   "source": [
    "### step-2"
   ]
  },
  {
   "cell_type": "code",
   "execution_count": 22,
   "metadata": {},
   "outputs": [
    {
     "data": {
      "text/html": [
       "\n",
       "    <div>\n",
       "        <style>\n",
       "            /* Turns off some styling */\n",
       "            progress {\n",
       "                /* gets rid of default border in Firefox and Opera. */\n",
       "                border: none;\n",
       "                /* Needs to be in here for Safari polyfill so background images work as expected. */\n",
       "                background-size: auto;\n",
       "            }\n",
       "            .progress-bar-interrupted, .progress-bar-interrupted::-webkit-progress-bar {\n",
       "                background: #F44336;\n",
       "            }\n",
       "        </style>\n",
       "      <progress value='4' class='' max='10', style='width:300px; height:20px; vertical-align: middle;'></progress>\n",
       "      40.00% [4/10 10:42<16:03]\n",
       "    </div>\n",
       "    \n",
       "<table border=\"1\" class=\"dataframe\">\n",
       "  <thead>\n",
       "    <tr style=\"text-align: left;\">\n",
       "      <th>epoch</th>\n",
       "      <th>train_loss</th>\n",
       "      <th>valid_loss</th>\n",
       "      <th>accuracy</th>\n",
       "      <th>time</th>\n",
       "    </tr>\n",
       "  </thead>\n",
       "  <tbody>\n",
       "    <tr>\n",
       "      <td>0</td>\n",
       "      <td>1.397211</td>\n",
       "      <td>1.259559</td>\n",
       "      <td>0.596828</td>\n",
       "      <td>02:39</td>\n",
       "    </tr>\n",
       "    <tr>\n",
       "      <td>1</td>\n",
       "      <td>1.416655</td>\n",
       "      <td>1.255859</td>\n",
       "      <td>0.599410</td>\n",
       "      <td>02:33</td>\n",
       "    </tr>\n",
       "    <tr>\n",
       "      <td>2</td>\n",
       "      <td>1.326303</td>\n",
       "      <td>1.251948</td>\n",
       "      <td>0.597565</td>\n",
       "      <td>02:54</td>\n",
       "    </tr>\n",
       "    <tr>\n",
       "      <td>3</td>\n",
       "      <td>1.327017</td>\n",
       "      <td>1.220460</td>\n",
       "      <td>0.608631</td>\n",
       "      <td>02:34</td>\n",
       "    </tr>\n",
       "  </tbody>\n",
       "</table><p>\n",
       "\n",
       "    <div>\n",
       "        <style>\n",
       "            /* Turns off some styling */\n",
       "            progress {\n",
       "                /* gets rid of default border in Firefox and Opera. */\n",
       "                border: none;\n",
       "                /* Needs to be in here for Safari polyfill so background images work as expected. */\n",
       "                background-size: auto;\n",
       "            }\n",
       "            .progress-bar-interrupted, .progress-bar-interrupted::-webkit-progress-bar {\n",
       "                background: #F44336;\n",
       "            }\n",
       "        </style>\n",
       "      <progress value='212' class='' max='1609', style='width:300px; height:20px; vertical-align: middle;'></progress>\n",
       "      13.18% [212/1609 00:23<02:37 1.2762]\n",
       "    </div>\n",
       "    "
      ],
      "text/plain": [
       "<IPython.core.display.HTML object>"
      ]
     },
     "metadata": {},
     "output_type": "display_data"
    }
   ],
   "source": [
    "learn.freeze_to(-2)\n",
    "learn.fit_one_cycle(10, slice(5e-3/2., 1e-3))\n",
    "learn.freeze()\n",
    "learn.save('step-2')"
   ]
  },
  {
   "cell_type": "code",
   "execution_count": 23,
   "metadata": {},
   "outputs": [
    {
     "data": {
      "image/png": "[encoded data removed]",
      "text/plain": [
       "<Figure size 432x288 with 1 Axes>"
      ]
     },
     "metadata": {},
     "output_type": "display_data"
    },
    {
     "data": {
      "image/png": "[encoded data removed]",
      "text/plain": [
       "<Figure size 432x288 with 1 Axes>"
      ]
     },
     "metadata": {},
     "output_type": "display_data"
    },
    {
     "data": {
      "image/png": "[encoded data removed]",
      "text/plain": [
       "<Figure size 432x288 with 1 Axes>"
      ]
     },
     "metadata": {},
     "output_type": "display_data"
    }
   ],
   "source": [
    "learn.recorder.plot()\n",
    "learn.recorder.plot_losses()\n",
    "learn.recorder.plot_metrics()"
   ]
  },
  {
   "cell_type": "markdown",
   "metadata": {},
   "source": [
    "### step-3"
   ]
  },
  {
   "cell_type": "code",
   "execution_count": 24,
   "metadata": {},
   "outputs": [
    {
     "data": {
      "text/html": [
       "\n",
       "    <div>\n",
       "        <style>\n",
       "            /* Turns off some styling */\n",
       "            progress {\n",
       "                /* gets rid of default border in Firefox and Opera. */\n",
       "                border: none;\n",
       "                /* Needs to be in here for Safari polyfill so background images work as expected. */\n",
       "                background-size: auto;\n",
       "            }\n",
       "            .progress-bar-interrupted, .progress-bar-interrupted::-webkit-progress-bar {\n",
       "                background: #F44336;\n",
       "            }\n",
       "        </style>\n",
       "      <progress value='3' class='' max='10', style='width:300px; height:20px; vertical-align: middle;'></progress>\n",
       "      30.00% [3/10 17:15<40:15]\n",
       "    </div>\n",
       "    \n",
       "<table border=\"1\" class=\"dataframe\">\n",
       "  <thead>\n",
       "    <tr style=\"text-align: left;\">\n",
       "      <th>epoch</th>\n",
       "      <th>train_loss</th>\n",
       "      <th>valid_loss</th>\n",
       "      <th>accuracy</th>\n",
       "      <th>time</th>\n",
       "    </tr>\n",
       "  </thead>\n",
       "  <tbody>\n",
       "    <tr>\n",
       "      <td>0</td>\n",
       "      <td>1.125509</td>\n",
       "      <td>1.183123</td>\n",
       "      <td>0.629657</td>\n",
       "      <td>06:06</td>\n",
       "    </tr>\n",
       "    <tr>\n",
       "      <td>1</td>\n",
       "      <td>1.141699</td>\n",
       "      <td>1.176458</td>\n",
       "      <td>0.627444</td>\n",
       "      <td>05:48</td>\n",
       "    </tr>\n",
       "    <tr>\n",
       "      <td>2</td>\n",
       "      <td>1.046829</td>\n",
       "      <td>1.163864</td>\n",
       "      <td>0.637403</td>\n",
       "      <td>05:20</td>\n",
       "    </tr>\n",
       "  </tbody>\n",
       "</table><p>\n",
       "\n",
       "    <div>\n",
       "        <style>\n",
       "            /* Turns off some styling */\n",
       "            progress {\n",
       "                /* gets rid of default border in Firefox and Opera. */\n",
       "                border: none;\n",
       "                /* Needs to be in here for Safari polyfill so background images work as expected. */\n",
       "                background-size: auto;\n",
       "            }\n",
       "            .progress-bar-interrupted, .progress-bar-interrupted::-webkit-progress-bar {\n",
       "                background: #F44336;\n",
       "            }\n",
       "        </style>\n",
       "      <progress value='3' class='' max='1609', style='width:300px; height:20px; vertical-align: middle;'></progress>\n",
       "      0.19% [3/1609 00:05<49:26 1.0398]\n",
       "    </div>\n",
       "    "
      ],
      "text/plain": [
       "<IPython.core.display.HTML object>"
      ]
     },
     "metadata": {},
     "output_type": "display_data"
    }
   ],
   "source": [
    "learn.unfreeze()\n",
    "learn.fit_one_cycle(10, slice(1e-3/5, 1e-4))\n",
    "learn.freeze()\n",
    "learn.save('step-3')"
   ]
  },
  {
   "cell_type": "code",
   "execution_count": 25,
   "metadata": {},
   "outputs": [
    {
     "data": {
      "image/png": "[encoded data removed]",
      "text/plain": [
       "<Figure size 432x288 with 1 Axes>"
      ]
     },
     "metadata": {},
     "output_type": "display_data"
    },
    {
     "data": {
      "image/png": "[encoded data removed]",
      "text/plain": [
       "<Figure size 432x288 with 1 Axes>"
      ]
     },
     "metadata": {},
     "output_type": "display_data"
    },
    {
     "data": {
      "image/png": "[encoded data removed]",
      "text/plain": [
       "<Figure size 432x288 with 1 Axes>"
      ]
     },
     "metadata": {},
     "output_type": "display_data"
    }
   ],
   "source": [
    "learn.recorder.plot()\n",
    "learn.recorder.plot_losses()\n",
    "learn.recorder.plot_metrics()"
   ]
  },
  {
   "cell_type": "code",
   "execution_count": 26,
   "metadata": {},
   "outputs": [],
   "source": [
    "learn.export()"
   ]
  },
  {
   "cell_type": "markdown",
   "metadata": {},
   "source": [
    "# Predict & Submission"
   ]
  },
  {
   "cell_type": "code",
   "execution_count": 27,
   "metadata": {},
   "outputs": [
    {
     "data": {
      "application/vnd.jupyter.widget-view+json": {
       "model_id": "f2833329e7314f15b0554d62d6609e46",
       "version_major": 2,
       "version_minor": 0
      },
      "text/plain": [
       "HBox(children=(IntProgress(value=0, max=54200), HTML(value='')))"
      ]
     },
     "metadata": {},
     "output_type": "display_data"
    }
   ],
   "source": [
    "%%time\n",
    "predict = []\n",
    "predict_proba = []\n",
    "for text in tqdm_notebook(test_df.text):\n",
    "    predicts = learn.predict(text)\n",
    "    predict.append(int(predicts[1]))\n",
    "    predict_proba.append(np.array(predicts[2]))"
   ]
  },
  {
   "cell_type": "code",
   "execution_count": 28,
   "metadata": {},
   "outputs": [
    {
     "data": {
      "text/html": [
       "<div>\n",
       "<style scoped>\n",
       "    .dataframe tbody tr th:only-of-type {\n",
       "        vertical-align: middle;\n",
       "    }\n",
       "\n",
       "    .dataframe tbody tr th {\n",
       "        vertical-align: top;\n",
       "    }\n",
       "\n",
       "    .dataframe thead th {\n",
       "        text-align: right;\n",
       "    }\n",
       "</style>\n",
       "<table border=\"1\" class=\"dataframe\">\n",
       "  <thead>\n",
       "    <tr style=\"text-align: right;\">\n",
       "      <th></th>\n",
       "      <th>action</th>\n",
       "      <th>adult</th>\n",
       "      <th>adventure</th>\n",
       "      <th>animation</th>\n",
       "      <th>biography</th>\n",
       "      <th>comedy</th>\n",
       "      <th>crime</th>\n",
       "      <th>documentary</th>\n",
       "      <th>drama</th>\n",
       "      <th>family</th>\n",
       "      <th>fantasy</th>\n",
       "      <th>game-show</th>\n",
       "      <th>history</th>\n",
       "      <th>horror</th>\n",
       "      <th>music</th>\n",
       "      <th>musical</th>\n",
       "      <th>mystery</th>\n",
       "      <th>news</th>\n",
       "      <th>reality-tv</th>\n",
       "      <th>romance</th>\n",
       "      <th>sci-fi</th>\n",
       "      <th>short</th>\n",
       "      <th>sport</th>\n",
       "      <th>talk-show</th>\n",
       "      <th>thriller</th>\n",
       "      <th>war</th>\n",
       "      <th>western</th>\n",
       "    </tr>\n",
       "  </thead>\n",
       "  <tbody>\n",
       "    <tr>\n",
       "      <th>0</th>\n",
       "      <td>0.026403</td>\n",
       "      <td>6.998324e-05</td>\n",
       "      <td>0.002987</td>\n",
       "      <td>0.001134</td>\n",
       "      <td>0.000067</td>\n",
       "      <td>0.020459</td>\n",
       "      <td>2.330237e-02</td>\n",
       "      <td>0.000553</td>\n",
       "      <td>0.279686</td>\n",
       "      <td>0.000664</td>\n",
       "      <td>0.004428</td>\n",
       "      <td>6.103700e-06</td>\n",
       "      <td>0.000036</td>\n",
       "      <td>0.012318</td>\n",
       "      <td>0.000025</td>\n",
       "      <td>0.000169</td>\n",
       "      <td>1.852274e-02</td>\n",
       "      <td>4.129237e-06</td>\n",
       "      <td>0.000019</td>\n",
       "      <td>0.002563</td>\n",
       "      <td>0.008825</td>\n",
       "      <td>0.404329</td>\n",
       "      <td>0.000010</td>\n",
       "      <td>0.000001</td>\n",
       "      <td>0.193211</td>\n",
       "      <td>1.156399e-04</td>\n",
       "      <td>9.203483e-05</td>\n",
       "    </tr>\n",
       "    <tr>\n",
       "      <th>1</th>\n",
       "      <td>0.001036</td>\n",
       "      <td>1.508335e-04</td>\n",
       "      <td>0.001323</td>\n",
       "      <td>0.001687</td>\n",
       "      <td>0.000115</td>\n",
       "      <td>0.577820</td>\n",
       "      <td>9.841372e-04</td>\n",
       "      <td>0.001937</td>\n",
       "      <td>0.393790</td>\n",
       "      <td>0.013831</td>\n",
       "      <td>0.000106</td>\n",
       "      <td>5.344393e-07</td>\n",
       "      <td>0.000051</td>\n",
       "      <td>0.000161</td>\n",
       "      <td>0.000015</td>\n",
       "      <td>0.000263</td>\n",
       "      <td>2.223514e-04</td>\n",
       "      <td>7.127661e-07</td>\n",
       "      <td>0.000020</td>\n",
       "      <td>0.001352</td>\n",
       "      <td>0.000004</td>\n",
       "      <td>0.004475</td>\n",
       "      <td>0.000002</td>\n",
       "      <td>0.000002</td>\n",
       "      <td>0.000622</td>\n",
       "      <td>4.014358e-06</td>\n",
       "      <td>2.568210e-05</td>\n",
       "    </tr>\n",
       "    <tr>\n",
       "      <th>2</th>\n",
       "      <td>0.000003</td>\n",
       "      <td>5.377466e-07</td>\n",
       "      <td>0.000035</td>\n",
       "      <td>0.000003</td>\n",
       "      <td>0.000180</td>\n",
       "      <td>0.000064</td>\n",
       "      <td>5.839891e-07</td>\n",
       "      <td>0.993214</td>\n",
       "      <td>0.000462</td>\n",
       "      <td>0.000009</td>\n",
       "      <td>0.000002</td>\n",
       "      <td>1.095465e-08</td>\n",
       "      <td>0.000073</td>\n",
       "      <td>0.000003</td>\n",
       "      <td>0.000007</td>\n",
       "      <td>0.000001</td>\n",
       "      <td>3.926405e-07</td>\n",
       "      <td>3.761321e-06</td>\n",
       "      <td>0.000050</td>\n",
       "      <td>0.000001</td>\n",
       "      <td>0.000002</td>\n",
       "      <td>0.005877</td>\n",
       "      <td>0.000001</td>\n",
       "      <td>0.000001</td>\n",
       "      <td>0.000004</td>\n",
       "      <td>1.012595e-07</td>\n",
       "      <td>3.948776e-08</td>\n",
       "    </tr>\n",
       "    <tr>\n",
       "      <th>3</th>\n",
       "      <td>0.000809</td>\n",
       "      <td>1.885369e-04</td>\n",
       "      <td>0.002070</td>\n",
       "      <td>0.000405</td>\n",
       "      <td>0.001653</td>\n",
       "      <td>0.107247</td>\n",
       "      <td>1.577129e-03</td>\n",
       "      <td>0.025630</td>\n",
       "      <td>0.802577</td>\n",
       "      <td>0.003792</td>\n",
       "      <td>0.000461</td>\n",
       "      <td>2.446125e-06</td>\n",
       "      <td>0.000359</td>\n",
       "      <td>0.007571</td>\n",
       "      <td>0.000025</td>\n",
       "      <td>0.000375</td>\n",
       "      <td>1.403428e-03</td>\n",
       "      <td>1.792289e-05</td>\n",
       "      <td>0.000554</td>\n",
       "      <td>0.003364</td>\n",
       "      <td>0.000170</td>\n",
       "      <td>0.018372</td>\n",
       "      <td>0.000021</td>\n",
       "      <td>0.000036</td>\n",
       "      <td>0.021282</td>\n",
       "      <td>2.809882e-05</td>\n",
       "      <td>8.495282e-06</td>\n",
       "    </tr>\n",
       "    <tr>\n",
       "      <th>4</th>\n",
       "      <td>0.088770</td>\n",
       "      <td>1.774668e-06</td>\n",
       "      <td>0.000415</td>\n",
       "      <td>0.000500</td>\n",
       "      <td>0.001298</td>\n",
       "      <td>0.035501</td>\n",
       "      <td>1.511479e-02</td>\n",
       "      <td>0.001919</td>\n",
       "      <td>0.812361</td>\n",
       "      <td>0.005827</td>\n",
       "      <td>0.000489</td>\n",
       "      <td>3.430527e-06</td>\n",
       "      <td>0.001946</td>\n",
       "      <td>0.000911</td>\n",
       "      <td>0.000013</td>\n",
       "      <td>0.000277</td>\n",
       "      <td>2.473875e-03</td>\n",
       "      <td>2.476192e-05</td>\n",
       "      <td>0.000013</td>\n",
       "      <td>0.016151</td>\n",
       "      <td>0.000059</td>\n",
       "      <td>0.001377</td>\n",
       "      <td>0.000062</td>\n",
       "      <td>0.000041</td>\n",
       "      <td>0.014334</td>\n",
       "      <td>9.972488e-05</td>\n",
       "      <td>1.469823e-05</td>\n",
       "    </tr>\n",
       "  </tbody>\n",
       "</table>\n",
       "</div>"
      ],
      "text/plain": [
       "    action         adult       ...               war       western \n",
       "0  0.026403  6.998324e-05      ...       1.156399e-04  9.203483e-05\n",
       "1  0.001036  1.508335e-04      ...       4.014358e-06  2.568210e-05\n",
       "2  0.000003  5.377466e-07      ...       1.012595e-07  3.948776e-08\n",
       "3  0.000809  1.885369e-04      ...       2.809882e-05  8.495282e-06\n",
       "4  0.088770  1.774668e-06      ...       9.972488e-05  1.469823e-05\n",
       "\n",
       "[5 rows x 27 columns]"
      ]
     },
     "execution_count": 28,
     "metadata": {},
     "output_type": "execute_result"
    }
   ],
   "source": [
    "predict_proba = pd.DataFrame(predict_proba)\n",
    "predict_proba.columns = data_clas.classes\n",
    "predict_proba.to_csv('predict_proba.csv', index=False)\n",
    "predict_proba.head()"
   ]
  },
  {
   "cell_type": "code",
   "execution_count": 29,
   "metadata": {},
   "outputs": [
    {
     "data": {
      "text/html": [
       "<div>\n",
       "<style scoped>\n",
       "    .dataframe tbody tr th:only-of-type {\n",
       "        vertical-align: middle;\n",
       "    }\n",
       "\n",
       "    .dataframe tbody tr th {\n",
       "        vertical-align: top;\n",
       "    }\n",
       "\n",
       "    .dataframe thead th {\n",
       "        text-align: right;\n",
       "    }\n",
       "</style>\n",
       "<table border=\"1\" class=\"dataframe\">\n",
       "  <thead>\n",
       "    <tr style=\"text-align: right;\">\n",
       "      <th></th>\n",
       "      <th>id</th>\n",
       "      <th>genre</th>\n",
       "    </tr>\n",
       "  </thead>\n",
       "  <tbody>\n",
       "    <tr>\n",
       "      <th>0</th>\n",
       "      <td>1</td>\n",
       "      <td>short</td>\n",
       "    </tr>\n",
       "    <tr>\n",
       "      <th>1</th>\n",
       "      <td>2</td>\n",
       "      <td>comedy</td>\n",
       "    </tr>\n",
       "    <tr>\n",
       "      <th>2</th>\n",
       "      <td>3</td>\n",
       "      <td>documentary</td>\n",
       "    </tr>\n",
       "    <tr>\n",
       "      <th>3</th>\n",
       "      <td>4</td>\n",
       "      <td>drama</td>\n",
       "    </tr>\n",
       "    <tr>\n",
       "      <th>4</th>\n",
       "      <td>5</td>\n",
       "      <td>drama</td>\n",
       "    </tr>\n",
       "  </tbody>\n",
       "</table>\n",
       "</div>"
      ],
      "text/plain": [
       "   id        genre\n",
       "0   1        short\n",
       "1   2       comedy\n",
       "2   3  documentary\n",
       "3   4        drama\n",
       "4   5        drama"
      ]
     },
     "execution_count": 29,
     "metadata": {},
     "output_type": "execute_result"
    }
   ],
   "source": [
    "genre_sub=[]\n",
    "for i in predict:\n",
    "    genre_sub.append(data_clas.classes[i].replace(' ', ''))\n",
    "\n",
    "submission = pd.DataFrame({'id':range(1, len(predict)+1), 'genre':genre_sub}, columns=['id', 'genre'])\n",
    "submission.to_csv('submission.csv', index=False)\n",
    "submission.head()"
   ]
  },
  {
   "cell_type": "code",
   "execution_count": 30,
   "metadata": {},
   "outputs": [],
   "source": [
    "# v2"
   ]
  }
 ],
 "metadata": {
  "kernelspec": {
   "display_name": "Python 3",
   "language": "python",
   "name": "python3"
  },
  "language_info": {
   "codemirror_mode": {
    "name": "ipython",
    "version": 3
   },
   "file_extension": ".py",
   "mimetype": "text/x-python",
   "name": "python",
   "nbconvert_exporter": "python",
   "pygments_lexer": "ipython3",
   "version": "3.6.4"
  }
 },
 "nbformat": 4,
 "nbformat_minor": 1
}
